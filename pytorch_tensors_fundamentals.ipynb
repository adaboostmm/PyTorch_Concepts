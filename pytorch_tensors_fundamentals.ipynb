{
 "cells": [
  {
   "cell_type": "markdown",
   "metadata": {},
   "source": [
    "# NOTES compiled from deeplizard youtube videos\n",
    "\n",
    "# Convolutional neural networks\n",
    "\n",
    "## Collection of technology behind deep learning\n",
    "#### Math Tools: Calculus, Linear Algebra\n",
    "#### CS Tools: Python, PyTorch\n",
    "#### Physics/Engg Tools: CPU, GPU\n",
    "#### ML Tools: Neural Networks, Layers, Activation Functions\n",
    "\n",
    "CNNs are artificial neural nets used for image recognitiopn in deep learning.\n",
    "\n",
    "Let's explore typical neural input shape, input channels, output channels and feature maps\n",
    "\n",
    "1. Shape of CNN input typically has a length of 4\n",
    "2. So, we have a Rank 4 tensor with 4 axis, each index in a tensor shape represents a specific axis\n",
    "3. Image height and width are represented on the last two axes [?,?,H,W]\n",
    "4. C, H, W -> third from the left input represents color channels(typical values are 3 for RGB\n",
    "images or 1 for gray-scale images. color channel interpretation is only applicable to input tensor.\n",
    "5. [?,C,H,W] -> this represents a complete image as a tensor\n",
    "6. So, we need 3 indices to define an image\n",
    "7. in order to axes data in this form we need 3 indices.\n",
    "8. In order to arrive at a specific pixel value, we choose a color channel, then a height and a width.\n",
    "9. B, C, H, W -> The first axis in the input represents batch size: how many samples are in the batch\n",
    "10. Channels are the outputs from convolution layer, hence it is output channel as opposed to color channel"
   ]
  },
  {
   "cell_type": "code",
   "execution_count": null,
   "metadata": {},
   "outputs": [],
   "source": [
    "# tensor input for CNN\n",
    "# image input as a tensor to CNN\n",
    "[3,1, 28,28]\n",
    "#batch of 3 images, each image has a single color channel, and the image height and width are 28 x 28 respectively\n",
    "# Rank 4 tensor that will flow through the comnvolutional neural network\n"
   ]
  },
  {
   "cell_type": "code",
   "execution_count": null,
   "metadata": {},
   "outputs": [],
   "source": [
    "[1,1,28,28]\n",
    "# when this is passed through convolutional layer, height and width changes as well as the color channel\n"
   ]
  },
  {
   "cell_type": "markdown",
   "metadata": {},
   "source": [
    "# No of channels changes based on the no of filters used in the convolutional layer\n",
    "Suppose there are 3 convolutional filters\n",
    "1. 3 channel outputs from the convolutional layer\n",
    "2. These channels are the outputs from the convolutional layer, hence the name output channel\n",
    "3. each of the 3 filters convolves the original single input channel  producing 3 output channels"
   ]
  },
  {
   "cell_type": "code",
   "execution_count": 4,
   "metadata": {},
   "outputs": [],
   "source": [
    "# output channel\n",
    "[1, 3, 28, 28]\n",
    "# Depending on the filter dimensions, height and width of the output will also change\n",
    "# these modified color channels in the output are called feature maps."
   ]
  },
  {
   "cell_type": "markdown",
   "metadata": {},
   "source": [
    "# PyTorch Tensors\n",
    "\n",
    "1. Instances of the torch.Tensor PyTorch class\n",
    "2. Difference between abstract concept tensor and PyTorch tensor lies at the implementation level\n",
    "as we can work with the code.\n",
    "2. tensor contains numerical uniform data with one datatype\n",
    "3. tensor datatype has a CPU and a GPU version\n",
    "\n",
    "## Note: torch.Tensor(with upper case T): is the class constructor\n",
    "### torch.tensor(with lower case t) is the factory function that builds tensor objects for us.\n",
    "Factory functions are a software design pattern for creating objects.\n",
    "\n",
    "### Factory function torch.tensor() has better documentation, so it is better to use that while creating object.\n"
   ]
  },
  {
   "cell_type": "code",
   "execution_count": 3,
   "metadata": {},
   "outputs": [
    {
     "name": "stdout",
     "output_type": "stream",
     "text": [
      "type->  <class 'torch.Tensor'>\n",
      "dtype->  torch.float32\n",
      "device->  cpu\n",
      "layout->  torch.strided\n"
     ]
    }
   ],
   "source": [
    "# PyTorch tensors: instances of the torch.Tensor class that lives in the torch package \n",
    "# data preprocessing( transform raw input data into tensor form)\n",
    "import torch\n",
    "import numpy as np\n",
    "t = torch.Tensor()\n",
    "print(\"type-> \",type(t))\n",
    "\n",
    "# PyTorch tensor attributes\n",
    "print(\"dtype-> \",t.dtype)\n",
    "print(\"device-> \",t.device)\n",
    "print(\"layout-> \",t.layout)\n",
    "#layout: strided specifies how the tensor is stored in memory"
   ]
  },
  {
   "cell_type": "markdown",
   "metadata": {},
   "source": [
    "# Change the device to GPU"
   ]
  },
  {
   "cell_type": "code",
   "execution_count": 11,
   "metadata": {},
   "outputs": [
    {
     "data": {
      "text/plain": [
       "device(type='cuda', index=0)"
      ]
     },
     "execution_count": 11,
     "metadata": {},
     "output_type": "execute_result"
    }
   ],
   "source": [
    "#device is GPU and it is the first GPU that we have\n",
    "device = torch.device('cuda:0')\n",
    "device"
   ]
  },
  {
   "cell_type": "code",
   "execution_count": 23,
   "metadata": {},
   "outputs": [
    {
     "data": {
      "text/plain": [
       "torch.Tensor"
      ]
     },
     "execution_count": 23,
     "metadata": {},
     "output_type": "execute_result"
    }
   ],
   "source": [
    "test = [1, 2, 3] # Python list to tensor\n",
    "tt = torch.tensor(test)\n",
    "type(tt)"
   ]
  },
  {
   "cell_type": "markdown",
   "metadata": {},
   "source": [
    "# Create Tensors using Data"
   ]
  },
  {
   "cell_type": "code",
   "execution_count": 29,
   "metadata": {},
   "outputs": [
    {
     "name": "stdout",
     "output_type": "stream",
     "text": [
      "<class 'numpy.ndarray'>\n",
      "option 1->  tensor([1., 2., 3.]) torch.float32\n",
      "option 2->  tensor([1, 2, 3]) torch.int64\n",
      "option 3->  tensor([1, 2, 3]) torch.int64\n",
      "option 4->  tensor([1, 2, 3]) torch.int64\n"
     ]
    }
   ],
   "source": [
    "data = np.array([1, 2, 3]) # from numpy array\n",
    "print(type(data))\n",
    "# let's create tensors using with multiple options\n",
    "o1 = torch.Tensor(data)\n",
    "print(\"option 1-> \",o1, o1.dtype)\n",
    "o2 = torch.tensor(data)\n",
    "print(\"option 2-> \",o2, o2.dtype)\n",
    "o3 = torch.as_tensor(data)\n",
    "print(\"option 3-> \",o3, o3.dtype)\n",
    "o4 = torch.from_numpy(data)\n",
    "print(\"option 4-> \",o4, o4.dtype)\n",
    "#Note: o1 produces float, rest are integers"
   ]
  },
  {
   "cell_type": "code",
   "execution_count": 27,
   "metadata": {},
   "outputs": [
    {
     "data": {
      "text/plain": [
       "(torch.int64, torch.float32)"
      ]
     },
     "execution_count": 27,
     "metadata": {},
     "output_type": "execute_result"
    }
   ],
   "source": [
    "t1 = torch.tensor([1, 2, 3])\n",
    "t2 = torch.tensor([1., 2., 3.])\n",
    "t1.dtype, t2.dtype"
   ]
  },
  {
   "cell_type": "markdown",
   "metadata": {},
   "source": [
    "# Create Tensors without Data"
   ]
  },
  {
   "cell_type": "code",
   "execution_count": 9,
   "metadata": {},
   "outputs": [
    {
     "name": "stdout",
     "output_type": "stream",
     "text": [
      "tensor([[1., 0.],\n",
      "        [0., 1.]])\n",
      "tensor([[0., 0.],\n",
      "        [0., 0.]])\n",
      "tensor([[1., 1.],\n",
      "        [1., 1.]])\n",
      "tensor([[0.7413, 0.4015],\n",
      "        [0.7155, 0.7526]])\n"
     ]
    }
   ],
   "source": [
    "# 2-D tensors with ones on the diagonal, zeros elsewhere\n",
    "print(torch.eye(2))\n",
    "# tensors with zeroes of given shape\n",
    "print(torch.zeros([2,2]))\n",
    "# tensors with ones of given shape\n",
    "print(torch.ones([2,2]))\n",
    "# tensors with random numbers of given shape\n",
    "print(torch.rand([2,2]))"
   ]
  },
  {
   "cell_type": "code",
   "execution_count": 30,
   "metadata": {},
   "outputs": [
    {
     "data": {
      "text/plain": [
       "torch.float32"
      ]
     },
     "execution_count": 30,
     "metadata": {},
     "output_type": "execute_result"
    }
   ],
   "source": [
    "# default dtype\n",
    "torch.get_default_dtype()"
   ]
  },
  {
   "cell_type": "code",
   "execution_count": 25,
   "metadata": {},
   "outputs": [
    {
     "data": {
      "text/plain": [
       "(torch.float32, torch.int64, torch.int64, torch.int64)"
      ]
     },
     "execution_count": 25,
     "metadata": {},
     "output_type": "execute_result"
    }
   ],
   "source": [
    "o1.dtype, o2.dtype, o3.dtype, o4.dtype"
   ]
  },
  {
   "cell_type": "code",
   "execution_count": 31,
   "metadata": {},
   "outputs": [
    {
     "data": {
      "text/plain": [
       "True"
      ]
     },
     "execution_count": 31,
     "metadata": {},
     "output_type": "execute_result"
    }
   ],
   "source": [
    "# torch.Tensor() constructor uses default dtype when building tensor\n",
    "# other calls chose dtype based on the type of the incoming data ( type inference)\n",
    "o1.dtype == torch.get_default_dtype()"
   ]
  },
  {
   "cell_type": "code",
   "execution_count": 34,
   "metadata": {},
   "outputs": [
    {
     "data": {
      "text/plain": [
       "tensor([1., 2., 3.])"
      ]
     },
     "execution_count": 34,
     "metadata": {},
     "output_type": "execute_result"
    }
   ],
   "source": [
    "# while using torch.tensor() factory class, we can pass dtype explicitly, whereas torch.Tensor() constructor\n",
    "# class does not allow that\n",
    "torch.tensor(data, dtype = torch.float32)\n",
    "torch.as_tensor(data, dtype=torch.float32)"
   ]
  },
  {
   "cell_type": "markdown",
   "metadata": {},
   "source": [
    "# Sharing memory for performance vs Copy\n",
    "\n",
    "1. tortch.Tensor() and torch.tensor() copy input data\n",
    "2. torch.as_tensor() and torch.from_numpy() share input data in memory with original input object"
   ]
  },
  {
   "cell_type": "code",
   "execution_count": 36,
   "metadata": {},
   "outputs": [
    {
     "name": "stdout",
     "output_type": "stream",
     "text": [
      "old: [1 2 3]\n",
      "new: [0 2 3]\n"
     ]
    }
   ],
   "source": [
    "print('old:', data)\n",
    "data[0] = 0\n",
    "print('new:', data)"
   ]
  },
  {
   "cell_type": "code",
   "execution_count": 38,
   "metadata": {},
   "outputs": [
    {
     "data": {
      "text/plain": [
       "(tensor([1., 2., 3.]), tensor([1, 2, 3]), tensor([0, 2, 3]), tensor([0, 2, 3]))"
      ]
     },
     "execution_count": 38,
     "metadata": {},
     "output_type": "execute_result"
    }
   ],
   "source": [
    "o1, o2, o3, o4 # o1, o2 are unchanged whereas o2 and o3 took new input data"
   ]
  },
  {
   "cell_type": "code",
   "execution_count": 41,
   "metadata": {},
   "outputs": [
    {
     "data": {
      "text/plain": [
       "(array([0, 2, 3]),\n",
       " array([0, 2, 3]),\n",
       " array([1., 2., 3.], dtype=float32),\n",
       " array([1, 2, 3]))"
      ]
     },
     "execution_count": 41,
     "metadata": {},
     "output_type": "execute_result"
    }
   ],
   "source": [
    "# convert torch.tensor() to numpy.ndarray\n",
    "o3.numpy(), o4.numpy(), o1.numpy(), o2.numpy()"
   ]
  },
  {
   "cell_type": "code",
   "execution_count": 42,
   "metadata": {},
   "outputs": [
    {
     "data": {
      "text/plain": [
       "(numpy.ndarray, numpy.ndarray, numpy.ndarray, numpy.ndarray)"
      ]
     },
     "execution_count": 42,
     "metadata": {},
     "output_type": "execute_result"
    }
   ],
   "source": [
    "type(o3.numpy()), type(o4.numpy()), type(o1.numpy()), type(o2.numpy())"
   ]
  },
  {
   "cell_type": "markdown",
   "metadata": {},
   "source": [
    "# Best Options For Creating Tensors in PyTorch\n",
    "\n",
    "1. torch.tensor()\n",
    "2. totch.as_tensor() # torch.from_numpy() is restricted as it only accepts numpy.ndarray "
   ]
  },
  {
   "cell_type": "markdown",
   "metadata": {},
   "source": [
    "# Numpy bridge\n",
    "## zero memory-copy very efficient"
   ]
  },
  {
   "cell_type": "code",
   "execution_count": 45,
   "metadata": {},
   "outputs": [
    {
     "data": {
      "text/plain": [
       "tensor([1., 1., 1., 1., 1.])"
      ]
     },
     "execution_count": 45,
     "metadata": {},
     "output_type": "execute_result"
    }
   ],
   "source": [
    "a = torch.ones(5)\n",
    "a"
   ]
  },
  {
   "cell_type": "code",
   "execution_count": 46,
   "metadata": {},
   "outputs": [
    {
     "name": "stdout",
     "output_type": "stream",
     "text": [
      "<built-in method numpy of Tensor object at 0x128c8d990>\n"
     ]
    }
   ],
   "source": [
    "b = a.numpy\n",
    "print(b)"
   ]
  },
  {
   "cell_type": "markdown",
   "metadata": {},
   "source": [
    "# Things to remember\n",
    "\n",
    "1. numpy.ndarray objects are allocated on CPU, as_tensor() function must copy data from CPU to GPU, when GPU is used\n",
    "2. memory sharing of as_tensor() doesn't work with built-in Pythion data structure, like list.\n",
    "3. as_tensor() call requires developer's knowledge'\n",
    "4. as_tensor()perfortmance improvement will be greater if lot of back and forth between numpy.ndarray and tensor objects"
   ]
  },
  {
   "cell_type": "code",
   "execution_count": null,
   "metadata": {},
   "outputs": [],
   "source": []
  }
 ],
 "metadata": {
  "kernelspec": {
   "display_name": "Python 3",
   "language": "python",
   "name": "python3"
  },
  "language_info": {
   "codemirror_mode": {
    "name": "ipython",
    "version": 3
   },
   "file_extension": ".py",
   "mimetype": "text/x-python",
   "name": "python",
   "nbconvert_exporter": "python",
   "pygments_lexer": "ipython3",
   "version": "3.7.3"
  }
 },
 "nbformat": 4,
 "nbformat_minor": 2
}
