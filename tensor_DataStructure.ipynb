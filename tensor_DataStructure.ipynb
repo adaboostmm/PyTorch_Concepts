{
 "cells": [
  {
   "cell_type": "markdown",
   "metadata": {},
   "source": [
    "# Tensor: primary data structure used by NN for input, output\n",
    "\n",
    "# NOTES COMPILED FROM deeplizard Youtube videos.\n",
    "\n",
    "Concept of Index:\n",
    "\n",
    "1. 0 Index: number, scalar\n",
    "2. 1 index: array, vector\n",
    "3. 2 indices: 2d array, matrix\n"
   ]
  },
  {
   "cell_type": "code",
   "execution_count": 2,
   "metadata": {},
   "outputs": [
    {
     "data": {
      "text/plain": [
       "3"
      ]
     },
     "execution_count": 2,
     "metadata": {},
     "output_type": "execute_result"
    }
   ],
   "source": [
    "#array/vector\n",
    "a = [1,2,3,4]\n",
    "a[2]"
   ]
  },
  {
   "cell_type": "code",
   "execution_count": 3,
   "metadata": {},
   "outputs": [
    {
     "data": {
      "text/plain": [
       "3"
      ]
     },
     "execution_count": 3,
     "metadata": {},
     "output_type": "execute_result"
    }
   ],
   "source": [
    "# 2d array/matrix\n",
    "# Also called a 2-dimensional tensor, it has 9 components.\n",
    "dd = [\n",
    "    [1, 2, 3],\n",
    "    [4, 5, 6],\n",
    "    [7, 8, 9]\n",
    "]\n",
    "dd[0][2]"
   ]
  },
  {
   "cell_type": "markdown",
   "metadata": {},
   "source": [
    "# Beyond 2 indices, we use nd-array, nd-tensor\n",
    "\n",
    "tensor: Multi-dimensional arrays\n",
    "1. scalar: 0-dimensional tensor\n",
    "2. vector: 1-dimensional tensor\n",
    "3. matrix: 2-dimensional tensor\n",
    "4. nd-array: n dimensional tensor\n",
    "\n",
    "dimension of a tensor does not tell us how many components we have in a tensor\n",
    "A 3-dimensional vector has 3 components\n",
    "\n",
    "A 3-dimensional tensor has many more than 3 components\n",
    "\n",
    "example: dd has 9 components.\n",
    "\n",
    "# Rank, Axes and Shape of Tensor\n",
    "\n",
    "Rank of a tensor: \n",
    "1. number of dimensions present within the tensor\n",
    "2. how many indices are required to access a specific element within a structure\n",
    "\n",
    "Axes of a tensor:\n",
    "1. specific dimension of a tensor\n",
    "2. Rank-2 tensor has 2 dimensions or equivalently, rank-2 tensor has 2 axes.\n",
    "3. elements are said to exist or run along the axes\n",
    "4. length of each axis: how manmy indices are available along the axes\n",
    "\n"
   ]
  },
  {
   "cell_type": "code",
   "execution_count": 4,
   "metadata": {},
   "outputs": [
    {
     "data": {
      "text/plain": [
       "3"
      ]
     },
     "execution_count": 4,
     "metadata": {},
     "output_type": "execute_result"
    }
   ],
   "source": [
    "#Rank 1 tensor\n",
    "# One index to access an individual element of the tensor\n",
    "a[2]"
   ]
  },
  {
   "cell_type": "code",
   "execution_count": 5,
   "metadata": {},
   "outputs": [
    {
     "data": {
      "text/plain": [
       "3"
      ]
     },
     "execution_count": 5,
     "metadata": {},
     "output_type": "execute_result"
    }
   ],
   "source": [
    "#Rank 2 tensor\n",
    "# Two indices are required to access an individual element of the tensor\n",
    "dd[0][2]"
   ]
  },
  {
   "cell_type": "code",
   "execution_count": null,
   "metadata": {},
   "outputs": [],
   "source": [
    "# Length of an axis\n",
    "t[0]\n",
    "t[1]\n",
    "t[2]\n",
    "# Axis 1 has a length of three, we can index 3 positions along the axis"
   ]
  },
  {
   "cell_type": "code",
   "execution_count": null,
   "metadata": {},
   "outputs": [],
   "source": [
    "# Length of an axis\n",
    "t[0][0]\n",
    "t[1][0]\n",
    "t[2][0]\n",
    "\n",
    "t[0][1]\n",
    "t[1][1]\n",
    "t[2][1]\n",
    "\n",
    "t[0][2]\n",
    "t[1][2]\n",
    "t[2][2]\n",
    "\n",
    "t[0][3]\n",
    "t[1][3]\n",
    "t[2][3]\n",
    "\n",
    "# Axis 2 has a length of 4 as we can index 4 positions along the axis for each index of Axis 1"
   ]
  },
  {
   "cell_type": "code",
   "execution_count": 7,
   "metadata": {},
   "outputs": [
    {
     "name": "stdout",
     "output_type": "stream",
     "text": [
      "[1, 2, 3] [4, 5, 6] [7, 8, 9]\n"
     ]
    }
   ],
   "source": [
    "# Examples\n",
    "dd = [\n",
    "    [1, 2, 3],\n",
    "    [4, 5, 6],\n",
    "    [7, 8, 9]\n",
    "]\n",
    "print(dd[0], dd[1], dd[2])\n",
    "#Each element along the Axis 1 is an array"
   ]
  },
  {
   "cell_type": "code",
   "execution_count": 12,
   "metadata": {},
   "outputs": [
    {
     "name": "stdout",
     "output_type": "stream",
     "text": [
      "First index of Axis 2\n",
      "1 4 7\n",
      "Second index of Axis 2\n",
      "2 5 8\n",
      "Third index of Axis 2\n",
      "3 6 9\n"
     ]
    }
   ],
   "source": [
    "# Each element along Axis 2 is a number\n",
    "print(\"First index of Axis 2\")\n",
    "print(dd[0][0], dd[1][0], dd[2][0])\n",
    "print(\"Second index of Axis 2\")\n",
    "print(dd[0][1], dd[1][1], dd[2][1])\n",
    "print(\"Third index of Axis 2\")\n",
    "print(dd[0][2], dd[1][2], dd[2][2])"
   ]
  },
  {
   "cell_type": "markdown",
   "metadata": {},
   "source": [
    "# With tensors, the elements of the last axis are always numbers.\n",
    "\n",
    "### Rank of a tensor: How many axes a tensor has\n",
    "### Shape of a tensor: Length of these axes\n",
    "Hence, shapes tell us how many indices are available along the axes.\n",
    "\n",
    "### Convert a Python list into a torch tensor"
   ]
  },
  {
   "cell_type": "code",
   "execution_count": 16,
   "metadata": {},
   "outputs": [
    {
     "name": "stdout",
     "output_type": "stream",
     "text": [
      "tensor([[1, 2, 3],\n",
      "        [4, 5, 6],\n",
      "        [7, 8, 9]])\n",
      "<class 'torch.Tensor'>\n",
      "torch.Size([3, 3])\n"
     ]
    }
   ],
   "source": [
    "import torch\n",
    "dd = [\n",
    "    [1, 2, 3],\n",
    "    [4, 5, 6],\n",
    "    [7, 8, 9]\n",
    "]\n",
    "t = torch.tensor(dd)\n",
    "print(t)\n",
    "print(type(t))\n",
    "print(t.shape)\n",
    "# In PyTorch the size of a tensor and shape of a tensor are the same thing."
   ]
  },
  {
   "cell_type": "markdown",
   "metadata": {},
   "source": [
    "# Shape of 3,3 tells us each axes of the tensor has a length of 3\n",
    "It means:\n",
    "1. We have 3 indices available along each axes\n",
    "2. Shape also reveals the tensor's rank.\n",
    "3. rank of a variable is the length of its shape\n",
    "4. shape allows us to visualize a tensor\n",
    "5. shape also encodes all relevant information about axes, rank and indices\n",
    "6. we frequently reshape in NN programming\n",
    "7. as tensors flow through neural network, certain shapes are expected at different points inside the network\n",
    "8. Hence we need to underestand the incoming shape and the ability to reshape as needed"
   ]
  },
  {
   "cell_type": "markdown",
   "metadata": {},
   "source": [
    "# Reshaping a tensor"
   ]
  },
  {
   "cell_type": "code",
   "execution_count": 25,
   "metadata": {},
   "outputs": [
    {
     "name": "stdout",
     "output_type": "stream",
     "text": [
      "original  tensor([[1, 2, 3],\n",
      "        [4, 5, 6],\n",
      "        [7, 8, 9]])\n",
      "shape of original  torch.Size([3, 3])\n",
      "after reshaping  tensor([[1, 2, 3, 4, 5, 6, 7, 8, 9]])\n",
      "shape after reshaping  torch.Size([1, 9])\n"
     ]
    }
   ],
   "source": [
    "# reshape tensor t by 1,9\n",
    "print(\"original \", t)\n",
    "print(\"shape of original \", t.shape)\n",
    "print(\"after reshaping \", t.reshape(1,9))\n",
    "print(\"shape after reshaping \", t.reshape(1,9).shape)\n",
    "# Reshaping changes the grouping of the term, but it does not change the underlying data\n",
    "# reshape(1,9) means 1 array along Axis 1 and 9 elements along Axes 2"
   ]
  },
  {
   "cell_type": "code",
   "execution_count": null,
   "metadata": {},
   "outputs": [],
   "source": []
  },
  {
   "cell_type": "code",
   "execution_count": null,
   "metadata": {},
   "outputs": [],
   "source": []
  }
 ],
 "metadata": {
  "kernelspec": {
   "display_name": "Python 3",
   "language": "python",
   "name": "python3"
  },
  "language_info": {
   "codemirror_mode": {
    "name": "ipython",
    "version": 3
   },
   "file_extension": ".py",
   "mimetype": "text/x-python",
   "name": "python",
   "nbconvert_exporter": "python",
   "pygments_lexer": "ipython3",
   "version": "3.7.3"
  }
 },
 "nbformat": 4,
 "nbformat_minor": 2
}
